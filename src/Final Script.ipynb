{
 "cells": [
  {
   "cell_type": "code",
   "execution_count": 1,
   "metadata": {},
   "outputs": [],
   "source": [
    "#Packages\n",
    "import matplotlib.pyplot as plt\n",
    "import numpy as np\n",
    "import pandas as pd\n",
    "import seaborn as sns\n",
    "from datetime import datetime\n",
    "from sklearn.linear_model import LinearRegression\n",
    "from sklearn.model_selection import train_test_split\n",
    "from sklearn.model_selection import GridSearchCV\n",
    "from sklearn.metrics import mean_squared_error\n",
    "from sklearn.ensemble import RandomForestRegressor\n",
    "from sklearn.ensemble import GradientBoostingRegressor\n",
    "from sklearn.ensemble import BaggingRegressor\n",
    "from sklearn.ensemble import VotingRegressor\n",
    "from sklearn import preprocessing\n",
    "from sklearn.metrics import mean_absolute_error\n",
    "from statsmodels.tsa.stattools import adfuller\n",
    "import statsmodels.api as sm\n",
    "from pylab import rcParams\n",
    "import math\n",
    "import time\n",
    "import xgboost as xgb"
   ]
  },
  {
   "cell_type": "code",
   "execution_count": 2,
   "metadata": {},
   "outputs": [],
   "source": [
    "#load data, change directory to your corresponding directories\n",
    "tag = pd.read_csv(\"C:/Users/cos00/Desktop/Nuclear/APAN5900/Tag Data Final.csv\")\n",
    "#tag = pd.read_csv('~/Desktop/APAN5900/Tag Data Final.csv')"
   ]
  },
  {
   "cell_type": "code",
   "execution_count": 3,
   "metadata": {},
   "outputs": [],
   "source": [
    "#convert time column from string to time\n",
    "tag['Time'] = [datetime.strptime(x, '%m/%d/%Y %H:%M:%S') for x in tag['Time'] ] "
   ]
  },
  {
   "cell_type": "code",
   "execution_count": 4,
   "metadata": {},
   "outputs": [],
   "source": [
    "#extract tag entries with MI value\n",
    "tag_MI = tag[tag['MI'].notnull()]"
   ]
  },
  {
   "cell_type": "code",
   "execution_count": 5,
   "metadata": {},
   "outputs": [],
   "source": [
    "#remove two extreme values that could possibly be outliers\n",
    "tag_MI = tag_MI[(tag_MI['MI'] != 52.88) & (tag_MI['MI'] != 25.14)]"
   ]
  },
  {
   "cell_type": "code",
   "execution_count": 6,
   "metadata": {},
   "outputs": [],
   "source": [
    "#--------Model-----------\n",
    "\n",
    "#split train and test\n",
    "train, test = train_test_split(tag_MI, test_size=0.2, random_state=42)"
   ]
  },
  {
   "cell_type": "code",
   "execution_count": 7,
   "metadata": {},
   "outputs": [],
   "source": [
    "\n",
    "#pre-processing, use all numeric predicators\n",
    "X_train = train.drop([\"Time\", \"ProdGrade\", \"MI\"],axis=1)\n",
    "Y_train = train[\"MI\"]\n",
    "X_test = test.drop([\"Time\", \"ProdGrade\", \"MI\"],axis=1)\n",
    "Y_test = test[\"MI\"]"
   ]
  },
  {
   "cell_type": "code",
   "execution_count": 8,
   "metadata": {},
   "outputs": [
    {
     "data": {
      "text/plain": [
       "0.9974520699575301"
      ]
     },
     "execution_count": 8,
     "metadata": {},
     "output_type": "execute_result"
    }
   ],
   "source": [
    "#model, we chose gbm because it is the best\n",
    "#rebuild the gradient boosting model with larger number of trees and fix one random state and 20 max features\n",
    "boosting = GradientBoostingRegressor(alpha=0.9, criterion='friedman_mse', init=None,\n",
    "             learning_rate=0.1, loss='ls', max_depth=3, max_features=20,\n",
    "             max_leaf_nodes=None, min_impurity_decrease=0.0,\n",
    "             min_impurity_split=None, min_samples_leaf=1,\n",
    "             min_samples_split=2, min_weight_fraction_leaf=0.0,\n",
    "             n_estimators=500, presort='auto', random_state=115,\n",
    "             subsample=1.0, verbose=0, warm_start=False)\n",
    "boosting.fit(X_train, Y_train)\n",
    "boosting.score(X_train, Y_train)"
   ]
  },
  {
   "cell_type": "code",
   "execution_count": 9,
   "metadata": {},
   "outputs": [
    {
     "data": {
      "text/plain": [
       "0.5838802948664278"
      ]
     },
     "execution_count": 9,
     "metadata": {},
     "output_type": "execute_result"
    }
   ],
   "source": [
    "#predict\n",
    "MI_gb = boosting.predict(X_test)\n",
    "#check rmse\n",
    "mean_squared_error(test['MI'], MI_gb)"
   ]
  },
  {
   "cell_type": "code",
   "execution_count": 10,
   "metadata": {},
   "outputs": [],
   "source": [
    "#accuracy function\n",
    "def check_accuracy(prediction):\n",
    "    pred_round_lm = pd.DataFrame(list(np.round(prediction,1)), test['MI'])\n",
    "    pred_round_lm.columns = ['predicted']\n",
    "    accurate = prediction[(pred_round_lm['predicted'] >= pred_round_lm.index * 0.8) & (pred_round_lm['predicted'] <= pred_round_lm.index * 1.2)]\n",
    "    return accurate.shape[0]/test.shape[0]"
   ]
  },
  {
   "cell_type": "code",
   "execution_count": 12,
   "metadata": {},
   "outputs": [
    {
     "data": {
      "text/plain": [
       "0.9244791666666666"
      ]
     },
     "execution_count": 12,
     "metadata": {},
     "output_type": "execute_result"
    }
   ],
   "source": [
    "#check accuract\n",
    "check_accuracy(MI_gb)\n",
    "#92.4% accuracy"
   ]
  },
  {
   "cell_type": "code",
   "execution_count": null,
   "metadata": {},
   "outputs": [],
   "source": []
  }
 ],
 "metadata": {
  "kernelspec": {
   "display_name": "Python 3",
   "language": "python",
   "name": "python3"
  },
  "language_info": {
   "codemirror_mode": {
    "name": "ipython",
    "version": 3
   },
   "file_extension": ".py",
   "mimetype": "text/x-python",
   "name": "python",
   "nbconvert_exporter": "python",
   "pygments_lexer": "ipython3",
   "version": "3.7.0"
  }
 },
 "nbformat": 4,
 "nbformat_minor": 2
}

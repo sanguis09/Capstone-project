{
 "cells": [
  {
   "cell_type": "code",
   "execution_count": 1,
   "metadata": {},
   "outputs": [],
   "source": [
    "#load packages\n",
    "import matplotlib.pyplot as plt\n",
    "import numpy as np\n",
    "import pandas as pd\n",
    "from sklearn.linear_model import LinearRegression\n",
    "from scipy import stats"
   ]
  },
  {
   "cell_type": "code",
   "execution_count": 6,
   "metadata": {
    "collapsed": true
   },
   "outputs": [],
   "source": [
    "#dill.dump_session('notebook_env.db') #save progress"
   ]
  },
  {
   "cell_type": "code",
   "execution_count": 7,
   "metadata": {
    "collapsed": true
   },
   "outputs": [],
   "source": [
    "#dill.load_session('notebook_env.db') #load progress"
   ]
  },
  {
   "cell_type": "code",
   "execution_count": 13,
   "metadata": {},
   "outputs": [],
   "source": [
    "#load data, change directory to your corresponding directories\n",
    "#tag = pd.read_csv(\"~/Desktop/APAN5900/Tag Data JG.csv\")\n",
    "tag = pd.read_csv(\"C:/Users/cos00/Desktop/Nuclear/APAN5900/Tag Data.csv\")"
   ]
  },
  {
   "cell_type": "code",
   "execution_count": 20,
   "metadata": {},
   "outputs": [
    {
     "data": {
      "text/plain": [
       "(474780, 61)"
      ]
     },
     "execution_count": 20,
     "metadata": {},
     "output_type": "execute_result"
    }
   ],
   "source": [
    "np.shape(tag) #dimension"
   ]
  },
  {
   "cell_type": "code",
   "execution_count": 15,
   "metadata": {},
   "outputs": [
    {
     "data": {
      "text/html": [
       "<div>\n",
       "<style scoped>\n",
       "    .dataframe tbody tr th:only-of-type {\n",
       "        vertical-align: middle;\n",
       "    }\n",
       "\n",
       "    .dataframe tbody tr th {\n",
       "        vertical-align: top;\n",
       "    }\n",
       "\n",
       "    .dataframe thead th {\n",
       "        text-align: right;\n",
       "    }\n",
       "</style>\n",
       "<table border=\"1\" class=\"dataframe\">\n",
       "  <thead>\n",
       "    <tr style=\"text-align: right;\">\n",
       "      <th></th>\n",
       "      <th>Time</th>\n",
       "      <th>ProdGrade</th>\n",
       "      <th>MI</th>\n",
       "      <th>P1:FC70104</th>\n",
       "      <th>P1:FC70113</th>\n",
       "      <th>P1:FC70116</th>\n",
       "      <th>P1:FC70117</th>\n",
       "      <th>P1:FC70120</th>\n",
       "      <th>P1:FC70121</th>\n",
       "      <th>P1:FC70302</th>\n",
       "      <th>...</th>\n",
       "      <th>P1:TR70104</th>\n",
       "      <th>P1:TR70105</th>\n",
       "      <th>P1:TR70106</th>\n",
       "      <th>P1:TR70107</th>\n",
       "      <th>P1:TR70108</th>\n",
       "      <th>P1:TR70109</th>\n",
       "      <th>P1:TR70110</th>\n",
       "      <th>P1:TR70111</th>\n",
       "      <th>P1:TR70201</th>\n",
       "      <th>P1:TR70305</th>\n",
       "    </tr>\n",
       "  </thead>\n",
       "  <tbody>\n",
       "    <tr>\n",
       "      <th>0</th>\n",
       "      <td>9/1/2018  0:01:00</td>\n",
       "      <td>4110N</td>\n",
       "      <td>NaN</td>\n",
       "      <td>38794.609</td>\n",
       "      <td>190.75885</td>\n",
       "      <td>24957.957</td>\n",
       "      <td>14851.066</td>\n",
       "      <td>8557.4453</td>\n",
       "      <td>8234.1465</td>\n",
       "      <td>76234.313</td>\n",
       "      <td>...</td>\n",
       "      <td>188.43633</td>\n",
       "      <td>192.51096</td>\n",
       "      <td>191.25912</td>\n",
       "      <td>195.41490</td>\n",
       "      <td>190.49413</td>\n",
       "      <td>195.98662</td>\n",
       "      <td>191.57228</td>\n",
       "      <td>188.17290</td>\n",
       "      <td>109.82582</td>\n",
       "      <td>93.186417</td>\n",
       "    </tr>\n",
       "    <tr>\n",
       "      <th>1</th>\n",
       "      <td>9/1/2018  0:02:00</td>\n",
       "      <td>4110N</td>\n",
       "      <td>NaN</td>\n",
       "      <td>39349.859</td>\n",
       "      <td>211.37585</td>\n",
       "      <td>27914.863</td>\n",
       "      <td>14821.011</td>\n",
       "      <td>8553.7354</td>\n",
       "      <td>8235.4736</td>\n",
       "      <td>76240.289</td>\n",
       "      <td>...</td>\n",
       "      <td>188.38400</td>\n",
       "      <td>192.46667</td>\n",
       "      <td>191.22163</td>\n",
       "      <td>195.39833</td>\n",
       "      <td>190.43701</td>\n",
       "      <td>195.92068</td>\n",
       "      <td>191.54037</td>\n",
       "      <td>188.06023</td>\n",
       "      <td>109.82489</td>\n",
       "      <td>93.182861</td>\n",
       "    </tr>\n",
       "    <tr>\n",
       "      <th>2</th>\n",
       "      <td>9/1/2018  0:03:00</td>\n",
       "      <td>4110N</td>\n",
       "      <td>NaN</td>\n",
       "      <td>39299.203</td>\n",
       "      <td>236.44901</td>\n",
       "      <td>26407.764</td>\n",
       "      <td>14790.954</td>\n",
       "      <td>8550.0254</td>\n",
       "      <td>8236.8008</td>\n",
       "      <td>76246.266</td>\n",
       "      <td>...</td>\n",
       "      <td>188.33170</td>\n",
       "      <td>192.42241</td>\n",
       "      <td>191.18413</td>\n",
       "      <td>195.38177</td>\n",
       "      <td>190.37990</td>\n",
       "      <td>195.85475</td>\n",
       "      <td>191.50848</td>\n",
       "      <td>187.94756</td>\n",
       "      <td>109.82396</td>\n",
       "      <td>93.179306</td>\n",
       "    </tr>\n",
       "    <tr>\n",
       "      <th>3</th>\n",
       "      <td>9/1/2018  0:04:00</td>\n",
       "      <td>4110N</td>\n",
       "      <td>NaN</td>\n",
       "      <td>39085.840</td>\n",
       "      <td>261.52216</td>\n",
       "      <td>25929.623</td>\n",
       "      <td>14760.897</td>\n",
       "      <td>8546.3154</td>\n",
       "      <td>8238.1279</td>\n",
       "      <td>76252.242</td>\n",
       "      <td>...</td>\n",
       "      <td>188.27939</td>\n",
       "      <td>192.37813</td>\n",
       "      <td>191.14664</td>\n",
       "      <td>195.36520</td>\n",
       "      <td>190.32278</td>\n",
       "      <td>195.78882</td>\n",
       "      <td>191.47658</td>\n",
       "      <td>187.83487</td>\n",
       "      <td>109.82303</td>\n",
       "      <td>93.175743</td>\n",
       "    </tr>\n",
       "    <tr>\n",
       "      <th>4</th>\n",
       "      <td>9/1/2018  0:05:00</td>\n",
       "      <td>4110N</td>\n",
       "      <td>NaN</td>\n",
       "      <td>38872.480</td>\n",
       "      <td>286.59531</td>\n",
       "      <td>25934.773</td>\n",
       "      <td>14730.841</td>\n",
       "      <td>8542.6045</td>\n",
       "      <td>8239.4551</td>\n",
       "      <td>76258.227</td>\n",
       "      <td>...</td>\n",
       "      <td>188.22707</td>\n",
       "      <td>192.33385</td>\n",
       "      <td>191.10913</td>\n",
       "      <td>195.34863</td>\n",
       "      <td>190.26567</td>\n",
       "      <td>195.72289</td>\n",
       "      <td>191.44469</td>\n",
       "      <td>187.72220</td>\n",
       "      <td>109.82209</td>\n",
       "      <td>93.172188</td>\n",
       "    </tr>\n",
       "  </tbody>\n",
       "</table>\n",
       "<p>5 rows × 61 columns</p>\n",
       "</div>"
      ],
      "text/plain": [
       "                Time ProdGrade  MI  P1:FC70104  P1:FC70113  P1:FC70116  \\\n",
       "0  9/1/2018  0:01:00     4110N NaN   38794.609   190.75885   24957.957   \n",
       "1  9/1/2018  0:02:00     4110N NaN   39349.859   211.37585   27914.863   \n",
       "2  9/1/2018  0:03:00     4110N NaN   39299.203   236.44901   26407.764   \n",
       "3  9/1/2018  0:04:00     4110N NaN   39085.840   261.52216   25929.623   \n",
       "4  9/1/2018  0:05:00     4110N NaN   38872.480   286.59531   25934.773   \n",
       "\n",
       "   P1:FC70117  P1:FC70120  P1:FC70121  P1:FC70302     ...      P1:TR70104  \\\n",
       "0   14851.066   8557.4453   8234.1465   76234.313     ...       188.43633   \n",
       "1   14821.011   8553.7354   8235.4736   76240.289     ...       188.38400   \n",
       "2   14790.954   8550.0254   8236.8008   76246.266     ...       188.33170   \n",
       "3   14760.897   8546.3154   8238.1279   76252.242     ...       188.27939   \n",
       "4   14730.841   8542.6045   8239.4551   76258.227     ...       188.22707   \n",
       "\n",
       "   P1:TR70105  P1:TR70106  P1:TR70107  P1:TR70108  P1:TR70109  P1:TR70110  \\\n",
       "0   192.51096   191.25912   195.41490   190.49413   195.98662   191.57228   \n",
       "1   192.46667   191.22163   195.39833   190.43701   195.92068   191.54037   \n",
       "2   192.42241   191.18413   195.38177   190.37990   195.85475   191.50848   \n",
       "3   192.37813   191.14664   195.36520   190.32278   195.78882   191.47658   \n",
       "4   192.33385   191.10913   195.34863   190.26567   195.72289   191.44469   \n",
       "\n",
       "   P1:TR70111  P1:TR70201  P1:TR70305  \n",
       "0   188.17290   109.82582   93.186417  \n",
       "1   188.06023   109.82489   93.182861  \n",
       "2   187.94756   109.82396   93.179306  \n",
       "3   187.83487   109.82303   93.175743  \n",
       "4   187.72220   109.82209   93.172188  \n",
       "\n",
       "[5 rows x 61 columns]"
      ]
     },
     "execution_count": 15,
     "metadata": {},
     "output_type": "execute_result"
    }
   ],
   "source": [
    "tag.head()  #head of tag data"
   ]
  },
  {
   "cell_type": "code",
   "execution_count": 16,
   "metadata": {},
   "outputs": [
    {
     "data": {
      "text/plain": [
       "Time                       0\n",
       "ProdGrade                 10\n",
       "MI                    473028\n",
       "P1:FC70104               168\n",
       "P1:FC70113               168\n",
       "P1:FC70116               168\n",
       "P1:FC70117               168\n",
       "P1:FC70120               168\n",
       "P1:FC70121               168\n",
       "P1:FC70302               168\n",
       "P1:Fc70302.AOT           168\n",
       "P1:FC70309                 0\n",
       "P1:FC70310               168\n",
       "P1:FCV70111              168\n",
       "P1:FFC70106              168\n",
       "P1:FFC70113              168\n",
       "P1:FFC70118              168\n",
       "P1:FFC70119              168\n",
       "P1:FI70402               168\n",
       "P1:FR70106               168\n",
       "P1:FR70119               168\n",
       "P1:FR70303               168\n",
       "P1:LC70104               168\n",
       "P1:LC70104.PID           168\n",
       "P1:PI70123               168\n",
       "P1:PI70136               168\n",
       "P1:PR70200               168\n",
       "P1:PRS70108              168\n",
       "P1:PRS70108.PID          168\n",
       "P1:QI70402A              168\n",
       "                       ...  \n",
       "P1:QIA701002             168\n",
       "P1:QIA701003             168\n",
       "P1:QIA701004             168\n",
       "P1:QIA701005             168\n",
       "P1:R700ACT               168\n",
       "P1:R700ACT-Average       168\n",
       "P1:R700RECYCLEB          168\n",
       "P1:R700RECYCLET          168\n",
       "P1:SI/TI-700-MVG         168\n",
       "P1:TC70311               168\n",
       "P1:TCS70100              168\n",
       "P1:TCS70100.PID          168\n",
       "P1:TI70140               168\n",
       "P1:TI70141               168\n",
       "P1:TI70304               168\n",
       "P1:TI8802                168\n",
       "P1:TR70100               168\n",
       "P1:TR70101               168\n",
       "P1:TR70102               168\n",
       "P1:TR70103               168\n",
       "P1:TR70104               168\n",
       "P1:TR70105               168\n",
       "P1:TR70106               168\n",
       "P1:TR70107               168\n",
       "P1:TR70108               168\n",
       "P1:TR70109               168\n",
       "P1:TR70110               168\n",
       "P1:TR70111               168\n",
       "P1:TR70201               168\n",
       "P1:TR70305               168\n",
       "Length: 61, dtype: int64"
      ]
     },
     "execution_count": 16,
     "metadata": {},
     "output_type": "execute_result"
    }
   ],
   "source": [
    "tag.isnull().sum() #only 168 rows with na for most columns, 1474 for proGrade, let's delete them"
   ]
  },
  {
   "cell_type": "code",
   "execution_count": 17,
   "metadata": {},
   "outputs": [
    {
     "data": {
      "text/plain": [
       "array(['Time', 'ProdGrade', 'P1:FC70104', 'P1:FC70113', 'P1:FC70116',\n",
       "       'P1:FC70117', 'P1:FC70120', 'P1:FC70121', 'P1:FC70302',\n",
       "       'P1:Fc70302.AOT', 'P1:FC70309', 'P1:FC70310', 'P1:FCV70111',\n",
       "       'P1:FFC70106', 'P1:FFC70113', 'P1:FFC70118', 'P1:FFC70119',\n",
       "       'P1:FI70402', 'P1:FR70106', 'P1:FR70119', 'P1:FR70303',\n",
       "       'P1:LC70104', 'P1:LC70104.PID', 'P1:PI70123', 'P1:PI70136',\n",
       "       'P1:PR70200', 'P1:PRS70108', 'P1:PRS70108.PID', 'P1:QI70402A',\n",
       "       'P1:QIA701001', 'P1:QIA701002', 'P1:QIA701003', 'P1:QIA701004',\n",
       "       'P1:QIA701005', 'P1:R700ACT', 'P1:R700ACT-Average',\n",
       "       'P1:R700RECYCLEB', 'P1:R700RECYCLET', 'P1:SI/TI-700-MVG',\n",
       "       'P1:TC70311', 'P1:TCS70100', 'P1:TCS70100.PID', 'P1:TI70140',\n",
       "       'P1:TI70141', 'P1:TI70304', 'P1:TI8802', 'P1:TR70100',\n",
       "       'P1:TR70101', 'P1:TR70102', 'P1:TR70103', 'P1:TR70104',\n",
       "       'P1:TR70105', 'P1:TR70106', 'P1:TR70107', 'P1:TR70108',\n",
       "       'P1:TR70109', 'P1:TR70110', 'P1:TR70111', 'P1:TR70201',\n",
       "       'P1:TR70305'], dtype=object)"
      ]
     },
     "execution_count": 17,
     "metadata": {},
     "output_type": "execute_result"
    }
   ],
   "source": [
    "#delete rows with nas except for MI\n",
    "\n",
    "#first we delete MI from columns \n",
    "tag_subset = np.array(tag.columns)\n",
    "tag_subset = np.delete(tag_subset, np.argwhere(tag_subset=='MI'))\n",
    "tag_subset"
   ]
  },
  {
   "cell_type": "code",
   "execution_count": 18,
   "metadata": {},
   "outputs": [],
   "source": [
    "#then we pass this in argument in dropna\n",
    "tag = tag.dropna(subset = tag_subset)"
   ]
  },
  {
   "cell_type": "code",
   "execution_count": 19,
   "metadata": {},
   "outputs": [
    {
     "data": {
      "text/plain": [
       "1920"
      ]
     },
     "execution_count": 19,
     "metadata": {},
     "output_type": "execute_result"
    }
   ],
   "source": [
    "sum(tag['MI'].notnull()) #only 1920 not null value for MI"
   ]
  },
  {
   "cell_type": "code",
   "execution_count": 21,
   "metadata": {},
   "outputs": [],
   "source": [
    "#export the cleaned tag dataset\n",
    "#tag.to_csv(r'~/Desktop/APAN5900/Tag Data JG Final.csv', index=False)\n",
    "tag.to_csv(r'C:/Users/cos00/Desktop/Nuclear/APAN5900/Tag Data Final.csv', index=False)"
   ]
  },
  {
   "cell_type": "code",
   "execution_count": null,
   "metadata": {
    "collapsed": true
   },
   "outputs": [],
   "source": []
  }
 ],
 "metadata": {
  "kernelspec": {
   "display_name": "Python 3",
   "language": "python",
   "name": "python3"
  },
  "language_info": {
   "codemirror_mode": {
    "name": "ipython",
    "version": 3
   },
   "file_extension": ".py",
   "mimetype": "text/x-python",
   "name": "python",
   "nbconvert_exporter": "python",
   "pygments_lexer": "ipython3",
   "version": "3.7.0"
  }
 },
 "nbformat": 4,
 "nbformat_minor": 2
}
